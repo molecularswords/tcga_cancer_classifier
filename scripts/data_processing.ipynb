{
 "cells": [
  {
   "cell_type": "markdown",
   "metadata": {},
   "source": [
    "### Data processing"
   ]
  },
  {
   "cell_type": "code",
   "execution_count": 4,
   "metadata": {
    "collapsed": true
   },
   "outputs": [],
   "source": [
    "## The all_cancers_manifest.txt file is the file that has the file_id and file_name (columns are like so: id\\tfilename\\tmd5\\tsize\\tstate).\n",
    "## The metadata JSON file is the dict that contains the file_id, case_id, and project_id (cancer type).\n",
    "## The hierarchy is [{..., \"file_id\": 123, \"associated_entities\": [{..., \"case_id\": \"6cb6f179-defd-4661-af0a-c353b74c0c49\"}, ...], \n",
    "##                    \"cases\": [{..., \"project\": {\"project_id\": \"TCGA-BRCA\"}, ...}], ...}, {<NEXT ENTRY>}, ...].\n",
    "## The data are stored in folders named after the file_id.\n",
    "\n",
    "import pandas as pd\n",
    "import numpy as np\n",
    "from scipy.sparse import lil_matrix\n",
    "import os\n",
    "import re\n",
    "import pickle\n",
    "import simplejson as json\n",
    "import csv\n",
    "import gc\n",
    "import datetime as dt\n",
    "import psutil\n",
    "from IPython.display import clear_output\n",
    "\n",
    "def metaDataGatherer(dtype):\n",
    "    ## Make a dict with all the metadata for each file (case id, cancer type, etc.)\n",
    "    ## data_dir is an initially empty directory where the gdc-client then downloaded the files.\n",
    "    with open('..data/data_from_tcga/metadata_master.json', 'r') as f:\n",
    "        metadata_master = json.load(f)\n",
    "    metadata_dict = {}\n",
    "    for each in metadata_master:\n",
    "        metadata_dict[each['file_id']] = each\n",
    "    ## Get list of file ids\n",
    "    file_ids = [name for name in os.listdir(data_dir) if os.path.isdir(data_dir+name)]\n",
    "    ## Gather data\n",
    "    files_metadata = {'RNA-Seq': [], 'miRNA-Seq': [], 'miRNA-Seq_isoforms': [], 'Methylation Array': []}\n",
    "    for file_id in file_ids:\n",
    "        temp_entry = metadata_dict[file_id]\n",
    "        case_id = temp_entry['associated_entities'][0]['case_id']\n",
    "        cancer_type = temp_entry['cases'][0]['project']['project_id'].split('-')[1]\n",
    "        data_type = temp_entry['experimental_strategy']\n",
    "        file_name = temp_entry['file_name']\n",
    "        if len(re.findall('isoforms', file_name)) > 0:\n",
    "            data_type += '_isoforms'\n",
    "        file_path = data_dir+file_id+'/'+file_name\n",
    "        files_metadata[data_type].append([file_path, data_type, case_id+'_'+file_id, cancer_type])\n",
    "    data_type_encoder = {'mrna': 'RNA-Seq', 'mirna': 'miRNA-Seq', 'mirna_iso': 'miRNA-Seq_isoforms', 'methyl': 'Methylation Array'}\n",
    "    print('There are', len(files_metadata[data_type_encoder[dtype]]), 'files.')\n",
    "    return files_metadata[data_type_encoder[dtype]]\n",
    "\n",
    "def sparseProcessor(full_metadata_list, metadata_list_for_processing, data_type, feat_file = '', sparse = 0):\n",
    "    ## metadata_list comes from metaDataGatherer function\n",
    "    ## data_type is one of the following: mrna, data, data_iso, methyl\n",
    "    metadata_dict = {'mrna': {'name': 'RNA-Seq', 'col_indices': [0,1], 'col_names': ['gene','value'], \n",
    "                              'col_dtypes': [str, float]}, \n",
    "                     'mirna': {'name': 'miRNA-Seq', 'col_indices': [0,2], 'col_names': ['miRNA_ID','value'], \n",
    "                               'col_dtypes': [str, float]},\n",
    "                     'mirna_iso': {'name': 'miRNA-Seq_isoforms', 'col_indices': [0,1,3], \n",
    "                                   'col_names': ['miRNA_ID','isoform_coords','value'], 'col_dtypes': [str, str, float]},\n",
    "                     'methyl': {'name': 'Methylation Array', 'col_indices': [0,1], \n",
    "                                'col_names': ['element_id','value'], 'col_dtypes': [str, float]}\n",
    "                    }\n",
    "    col_dtypes = {}\n",
    "    for i, each in enumerate(metadata_dict[data_type]['col_dtypes']):\n",
    "        col_name = metadata_dict[data_type]['col_names'][i]\n",
    "        col_dtypes[col_name] = each\n",
    "    ## Check if current features are in feature list\n",
    "    ## Add any new features to end of feature list\n",
    "    ## Add same number of new features as new columns to the array with np.hstack\n",
    "    ## Find indices of the feature list that equal the current features\n",
    "    ## Use these indices as indices to save current values to array\n",
    "    data_names = []\n",
    "    data_feats = []\n",
    "    data_ys = []\n",
    "    if len(feat_file) == 0:\n",
    "        ## Go through files and get all features first\n",
    "        for i, each in enumerate(full_metadata_list):\n",
    "            clear_output()\n",
    "            print('Now getting features from file', i, 'of', len(full_metadata_list))\n",
    "            if each[1] == 'RNA-Seq':\n",
    "                header = None\n",
    "            else:\n",
    "                header = 0\n",
    "            temp_data = pd.read_csv(each[0], sep = '\\t', index_col = 0, header = header,\n",
    "                                    usecols=metadata_dict[data_type]['col_indices'], \n",
    "                                    names=metadata_dict[data_type]['col_names'], \n",
    "                                    dtype=col_dtypes)\n",
    "            if each[1] == 'miRNA-Seq_isoforms':\n",
    "                temp_data.reset_index(drop=False, inplace=True)\n",
    "                temp_data['miRNA_isoform_ID'] = temp_data['miRNA_ID']+'_'+temp_data['isoform_coords']\n",
    "                temp_data.set_index('miRNA_isoform_ID', drop = True, inplace = True)\n",
    "            temp_data.dropna(subset = [metadata_dict[data_type]['col_names'][-1]], inplace = True)\n",
    "            if len(data_feats) == 0:\n",
    "                ## Make data_feats and data_array upon first iteration\n",
    "                data_feats = temp_data.index.tolist()\n",
    "            elif set(temp_data.index.tolist()) == set(data_feats):\n",
    "                ## Find indices within data_feats of current feats\n",
    "                continue\n",
    "            else:\n",
    "                ## Find new features\n",
    "                data_feats = list(set(data_feats).union(temp_data.index.tolist()))\n",
    "            del temp_data\n",
    "            gc.collect()\n",
    "    else:\n",
    "        data_feats = pd.read_csv(feat_file, index_col = None, header = None).values[0]\n",
    "    pd.DataFrame(data_feats).T.to_csv('../data/new_'+data_type+'_feats.csv', header = False, index = False)\n",
    "    ## Now go through again and put values into the array\n",
    "    label_encoder = dict(zip(data_feats, range(len(data_feats))))\n",
    "    print('Done getting features!')\n",
    "    print('There are a total of', len(metadata_list_for_processing), 'samples and',len(data_feats), 'features.')\n",
    "    start_time = dt.datetime.now()\n",
    "    proc = psutil.Process(os.getpid())\n",
    "    if sparse == 1:\n",
    "        print('Sparse mode...')\n",
    "        gc.collect()\n",
    "        data_array = lil_matrix((len(metadata_list_for_processing), len(data_feats)), dtype = float)\n",
    "        data_ys = []\n",
    "        data_names = []\n",
    "        for i, each in enumerate(metadata_list_for_processing):\n",
    "            if i == 0:\n",
    "                print('Now processing', i, 'of', len(metadata_list_for_processing))\n",
    "            else:\n",
    "                clear_output()\n",
    "                print('Last iteration took', dt.datetime.now() - temp_start_time)\n",
    "                mem_now = proc.memory_info().rss\n",
    "                print(\"Memory usage:\", float(mem_now)/1e6, 'MB')\n",
    "                print('Now processing', i, 'of', len(metadata_list_for_processing))\n",
    "            temp_start_time = dt.datetime.now()\n",
    "            if each[1] == 'RNA-Seq':\n",
    "                header = None\n",
    "            else:\n",
    "                header = 0\n",
    "            temp_data = pd.read_csv(each[0], sep = '\\t', index_col = 0, header = header,\n",
    "                                    usecols=metadata_dict[data_type]['col_indices'], \n",
    "                                    names=metadata_dict[data_type]['col_names'], \n",
    "                                    dtype=col_dtypes)\n",
    "            if each[1] == 'miRNA-Seq_isoforms':\n",
    "                temp_data.reset_index(drop=False, inplace=True)\n",
    "                temp_data['miRNA_isoform_ID'] = temp_data['miRNA_ID']+'_'+temp_data['isoform_coords']\n",
    "                temp_data.set_index('miRNA_isoform_ID', drop = True, inplace = True)\n",
    "            temp_data.dropna(subset = [metadata_dict[data_type]['col_names'][-1]], inplace = True)\n",
    "            ## Find indices within data_feats of current feats\n",
    "            temp_feats_enc = np.array([label_encoder[x] for x in temp_data.index.tolist()])\n",
    "            ## Index the array with the current values\n",
    "            data_array[i, temp_feats_enc] = temp_data.iloc[:,-1].astype(float).values\n",
    "            data_ys.append(each[3])\n",
    "            data_names.append(each[2])\n",
    "            del temp_data, temp_feats_enc\n",
    "            gc.collect()\n",
    "        with open('../data/new_'+data_type+'_X.pkl', 'wb') as f:\n",
    "            pickle.dump(data_array, f)\n",
    "        y = pd.DataFrame(data_ys, index = data_names, columns = ['y'])\n",
    "        with open('../data/new_'+data_type+'_y.pkl', 'wb') as f:\n",
    "            pickle.dump(y, f)\n",
    "    else:\n",
    "        print('csv mode...')\n",
    "        with open('../data/new_'+data_type+'_X.csv', 'w') as f:\n",
    "            csvwriter_X = csv.writer(f, delimiter = ',')\n",
    "            csvwriter_X.writerow(['']+data_feats)\n",
    "            with open('../data/new_'+data_type+'_y.csv', 'w') as g:\n",
    "                csvwriter_y = csv.writer(g, delimiter = ',')\n",
    "                csvwriter_y.writerow(['', 'y'])\n",
    "                for i, each in enumerate(metadata_list_for_processing):\n",
    "                    if i == 0:\n",
    "                        print('Now processing', i, 'of', len(metadata_list_for_processing))\n",
    "                    else:\n",
    "                        clear_output()\n",
    "                        print('Last iteration took', dt.datetime.now() - temp_start_time)\n",
    "                        mem_now = proc.memory_info().rss\n",
    "                        print(\"Memory usage:\", float(mem_now)/1e6, 'MB')\n",
    "                        print('Now processing', i, 'of', len(metadata_list_for_processing))\n",
    "                    temp_start_time = dt.datetime.now()    \n",
    "                    if each[1] == 'RNA-Seq':\n",
    "                        header = None\n",
    "                    else:\n",
    "                        header = 0\n",
    "                    temp_data = pd.read_csv(each[0], sep = '\\t', index_col = 0, header = header,\n",
    "                                            usecols=metadata_dict[data_type]['col_indices'], \n",
    "                                            names=metadata_dict[data_type]['col_names'], \n",
    "                                            dtype=col_dtypes)\n",
    "                    if each[1] == 'miRNA-Seq_isoforms':\n",
    "                        temp_data.reset_index(drop=False, inplace=True)\n",
    "                        temp_data['miRNA_isoform_ID'] = temp_data['miRNA_ID']+'_'+temp_data['isoform_coords']\n",
    "                        temp_data.set_index('miRNA_isoform_ID', drop = True, inplace = True)\n",
    "                    temp_data.dropna(subset = [metadata_dict[data_type]['col_names'][-1]], inplace = True)\n",
    "                    ## Find indices within data_feats of current feats\n",
    "                    temp_feats_enc = np.array([label_encoder[x] for x in temp_data.index.tolist()])\n",
    "                    ## Index the array with the current values\n",
    "                    data_array = np.array([np.nan]*len(data_feats))\n",
    "                    data_array[temp_feats_enc] = temp_data.iloc[:,-1].astype(float)\n",
    "                    csvwriter_X.writerow([each[2]]+data_array.tolist())\n",
    "                    csvwriter_y.writerow(each[2:4])\n",
    "                    del temp_data, temp_feats_enc, data_array\n",
    "                    gc.collect()\n",
    "    print('Total time elapsed:', dt.datetime.now() - start_time)"
   ]
  },
  {
   "cell_type": "markdown",
   "metadata": {},
   "source": [
    "### mRNA"
   ]
  },
  {
   "cell_type": "code",
   "execution_count": null,
   "metadata": {
    "collapsed": true,
    "scrolled": false
   },
   "outputs": [],
   "source": [
    "files_metadata = metaDataGatherer('mrna')\n",
    "sparseProcessor(files_metadata, files_metadata, 'mrna', '', 0)"
   ]
  },
  {
   "cell_type": "markdown",
   "metadata": {},
   "source": [
    "### miRNA"
   ]
  },
  {
   "cell_type": "code",
   "execution_count": null,
   "metadata": {
    "collapsed": true
   },
   "outputs": [],
   "source": [
    "files_metadata = metaDataGatherer('mirna')\n",
    "sparseProcessor(files_metadata, files_metadata, 'mirna', '', 0)"
   ]
  },
  {
   "cell_type": "markdown",
   "metadata": {},
   "source": [
    "### miRNA isoforms"
   ]
  },
  {
   "cell_type": "code",
   "execution_count": null,
   "metadata": {
    "collapsed": true,
    "scrolled": false
   },
   "outputs": [],
   "source": [
    "files_metadata = metaDataGatherer('mirna_iso')\n",
    "sparseProcessor(files_metadata, files_metadata, 'mirna_iso', '', 1)"
   ]
  },
  {
   "cell_type": "markdown",
   "metadata": {},
   "source": [
    "### Methylation"
   ]
  },
  {
   "cell_type": "code",
   "execution_count": 5,
   "metadata": {
    "scrolled": false
   },
   "outputs": [
    {
     "name": "stdout",
     "output_type": "stream",
     "text": [
      "Last iteration took 0:00:01.871378\n",
      "Memory usage: 1125.982208 MB\n",
      "Now processing 1538 of 1539\n",
      "Total time elapsed: 0:37:32.010133\n"
     ]
    }
   ],
   "source": [
    "files_metadata = metaDataGatherer('methyl')\n",
    "sparseProcessor(files_metadata, files_metadata, 'methyl', '../data/new_methyl_feats.csv', 0)"
   ]
  },
  {
   "cell_type": "code",
   "execution_count": null,
   "metadata": {
    "collapsed": true
   },
   "outputs": [],
   "source": []
  }
 ],
 "metadata": {
  "kernelspec": {
   "display_name": "Python 3",
   "language": "python",
   "name": "python3"
  },
  "language_info": {
   "codemirror_mode": {
    "name": "ipython",
    "version": 3
   },
   "file_extension": ".py",
   "mimetype": "text/x-python",
   "name": "python",
   "nbconvert_exporter": "python",
   "pygments_lexer": "ipython3",
   "version": "3.5.3"
  }
 },
 "nbformat": 4,
 "nbformat_minor": 1
}
