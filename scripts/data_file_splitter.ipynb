{
 "cells": [
  {
   "cell_type": "markdown",
   "metadata": {
    "collapsed": true
   },
   "source": [
    "### Make a function to split a data file randomly"
   ]
  },
  {
   "cell_type": "code",
   "execution_count": 1,
   "metadata": {
    "collapsed": true
   },
   "outputs": [],
   "source": [
    "def dataSubsetter(absolute_path_X, absolute_path_y, file_extension, size_ratio, split_ratio, num_splits, header = 1):\n",
    "    import pickle\n",
    "    import pandas as pd\n",
    "    import numpy as np\n",
    "    import csv\n",
    "    import warnings\n",
    "    warnings.filterwarnings(\"ignore\")\n",
    "    \n",
    "    for split in range(num_splits):\n",
    "        print('Making X data '+str(split)+'...')\n",
    "        train_inds = []\n",
    "        test_inds = []\n",
    "        with open(absolute_path_X, 'r') as f:\n",
    "            csvreader = csv.reader(f)\n",
    "            with open(absolute_path_X.split('.'+file_extension)[0]+'_train_'+str(split)+'_'+str(int(size_ratio*100))+'_perc.'+\n",
    "                      file_extension, 'w') as f_train:\n",
    "                csvwriter_train = csv.writer(f_train, delimiter = ',')\n",
    "                with open(absolute_path_X.split('.'+file_extension)[0]+'_test_'+str(split)+'_'+str(int(size_ratio*100))+'_perc.'+\n",
    "                          file_extension, 'w') as f_test:\n",
    "                    csvwriter_test = csv.writer(f_test, delimiter = ',')\n",
    "                    for i, line in enumerate(csvreader):\n",
    "                        if i == 0 and header == 1:\n",
    "                            csvwriter_train.writerow(line)\n",
    "                            csvwriter_test.writerow(line)\n",
    "                            train_inds.append(i)\n",
    "                            test_inds.append(i)\n",
    "                        else:\n",
    "                            if np.random.random() <= size_ratio:\n",
    "                                if np.random.random() >= split_ratio:\n",
    "                                    csvwriter_train.writerow(line)\n",
    "                                    train_inds.append(i)\n",
    "                                else:\n",
    "                                    csvwriter_test.writerow(line)\n",
    "                                    test_inds.append(i)\n",
    "        print('Making y data '+str(split)+'...')\n",
    "        with open(absolute_path_y, 'r') as f:\n",
    "            csvreader = csv.reader(f)\n",
    "            with open(absolute_path_y.split('.'+file_extension)[0]+'_train_'+str(split)+'_'+str(int(size_ratio*100))+'_perc.'+\n",
    "                      file_extension, 'w') as f_train:\n",
    "                csvwriter_train = csv.writer(f_train, delimiter = ',')\n",
    "                with open(absolute_path_y.split('.'+file_extension)[0]+'_test_'+str(split)+'_'+str(int(size_ratio*100))+'_perc.'+\n",
    "                          file_extension, 'w') as f_test:\n",
    "                    csvwriter_test = csv.writer(f_test, delimiter = ',')\n",
    "                    for i, line in enumerate(csvreader):\n",
    "                        if i in train_inds:\n",
    "                            csvwriter_train.writerow(line)\n",
    "                        if i in test_inds:\n",
    "                            csvwriter_test.writerow(line)\n",
    "    return 'DONE!'"
   ]
  },
  {
   "cell_type": "code",
   "execution_count": 6,
   "metadata": {},
   "outputs": [
    {
     "name": "stdout",
     "output_type": "stream",
     "text": [
      "Making X data 0...\n",
      "Making y data 0...\n"
     ]
    },
    {
     "data": {
      "text/plain": [
       "'DONE!'"
      ]
     },
     "execution_count": 6,
     "metadata": {},
     "output_type": "execute_result"
    }
   ],
   "source": [
    "dataSubsetter('../data/new_methyl_X.csv', '../data/new_methyl_y.csv',  'csv', 0.5, 0.33, 1, 1)"
   ]
  },
  {
   "cell_type": "code",
   "execution_count": null,
   "metadata": {
    "collapsed": true
   },
   "outputs": [],
   "source": []
  }
 ],
 "metadata": {
  "kernelspec": {
   "display_name": "Python 3",
   "language": "python",
   "name": "python3"
  },
  "language_info": {
   "codemirror_mode": {
    "name": "ipython",
    "version": 3
   },
   "file_extension": ".py",
   "mimetype": "text/x-python",
   "name": "python",
   "nbconvert_exporter": "python",
   "pygments_lexer": "ipython3",
   "version": "3.5.3"
  }
 },
 "nbformat": 4,
 "nbformat_minor": 1
}
